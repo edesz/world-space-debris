{
 "cells": [
  {
   "cell_type": "markdown",
   "metadata": {},
   "source": [
    "# Load and Merge Alcohol Consumption data with GeoData"
   ]
  },
  {
   "cell_type": "code",
   "execution_count": 1,
   "metadata": {
    "execution": {
     "iopub.execute_input": "2021-02-21T18:26:45.884521Z",
     "iopub.status.busy": "2021-02-21T18:26:45.883951Z",
     "iopub.status.idle": "2021-02-21T18:26:45.948012Z",
     "shell.execute_reply": "2021-02-21T18:26:45.947510Z",
     "shell.execute_reply.started": "2021-02-21T18:26:45.884400Z"
    }
   },
   "outputs": [],
   "source": [
    "%load_ext lab_black\n",
    "%load_ext autoreload\n",
    "%autoreload 2"
   ]
  },
  {
   "cell_type": "code",
   "execution_count": 2,
   "metadata": {
    "execution": {
     "iopub.execute_input": "2021-02-21T18:26:45.948725Z",
     "iopub.status.busy": "2021-02-21T18:26:45.948588Z",
     "iopub.status.idle": "2021-02-21T18:26:46.332877Z",
     "shell.execute_reply": "2021-02-21T18:26:46.332381Z",
     "shell.execute_reply.started": "2021-02-21T18:26:45.948711Z"
    }
   },
   "outputs": [],
   "source": [
    "import json\n",
    "import glob\n",
    "import os\n",
    "import requests\n",
    "\n",
    "import geopandas as gpd\n",
    "import pandas as pd\n",
    "import pycountry"
   ]
  },
  {
   "cell_type": "code",
   "execution_count": 3,
   "metadata": {
    "execution": {
     "iopub.execute_input": "2021-02-21T18:26:46.333619Z",
     "iopub.status.busy": "2021-02-21T18:26:46.333483Z",
     "iopub.status.idle": "2021-02-21T18:26:46.344138Z",
     "shell.execute_reply": "2021-02-21T18:26:46.343629Z",
     "shell.execute_reply.started": "2021-02-21T18:26:46.333604Z"
    }
   },
   "outputs": [],
   "source": [
    "pd.set_option(\"display.max_columns\", 500)\n",
    "pd.set_option(\"display.max_rows\", 500)"
   ]
  },
  {
   "cell_type": "code",
   "execution_count": 4,
   "metadata": {
    "execution": {
     "iopub.execute_input": "2021-02-21T18:26:46.345046Z",
     "iopub.status.busy": "2021-02-21T18:26:46.344787Z",
     "iopub.status.idle": "2021-02-21T18:26:46.356503Z",
     "shell.execute_reply": "2021-02-21T18:26:46.355995Z",
     "shell.execute_reply.started": "2021-02-21T18:26:46.345010Z"
    },
    "tags": [
     "parameters"
    ]
   },
   "outputs": [],
   "source": [
    "usecols = [\"Country\", \"Beverage Types\"]\n",
    "new_col_names = [\"Year\", \"Country\", \"Value\"]\n",
    "shapefile_col_names = [\"ADMIN\", \"ADM0_A3\", \"geometry\"]\n",
    "new_shapefile_col_names = [\"country\", \"country_code\", \"geometry\"]"
   ]
  },
  {
   "cell_type": "code",
   "execution_count": 5,
   "metadata": {
    "execution": {
     "iopub.execute_input": "2021-02-21T18:26:46.357302Z",
     "iopub.status.busy": "2021-02-21T18:26:46.357139Z",
     "iopub.status.idle": "2021-02-21T18:26:46.369999Z",
     "shell.execute_reply": "2021-02-21T18:26:46.369231Z",
     "shell.execute_reply.started": "2021-02-21T18:26:46.357258Z"
    }
   },
   "outputs": [],
   "source": [
    "PROJ_ROOT_DIR = os.getcwd()\n",
    "raw_data_dir = os.path.join(PROJ_ROOT_DIR, \"app\", \"data\", \"raw\")\n",
    "shapefile_filepath = os.path.join(\n",
    "    raw_data_dir, \"ne_110m_admin_0_countries\", \"ne_110m_admin_0_countries.shp\"\n",
    ")"
   ]
  },
  {
   "cell_type": "code",
   "execution_count": 6,
   "metadata": {
    "execution": {
     "iopub.execute_input": "2021-02-21T18:26:46.371190Z",
     "iopub.status.busy": "2021-02-21T18:26:46.371010Z",
     "iopub.status.idle": "2021-02-21T18:26:46.391135Z",
     "shell.execute_reply": "2021-02-21T18:26:46.390589Z",
     "shell.execute_reply.started": "2021-02-21T18:26:46.371151Z"
    }
   },
   "outputs": [],
   "source": [
    "def download_data(raw_data_dir):\n",
    "    years_ranges = [\n",
    "        [1960, 1979],\n",
    "        [1980, 1999],\n",
    "        [2000, 2009],\n",
    "        [2010, 2020],\n",
    "    ]\n",
    "    for s_e in years_ranges:\n",
    "        years = list(range(min(s_e), max(s_e) + 1))[::-1]\n",
    "        year_str = [f\";YEAR:{year}\" for year in years]\n",
    "        url = f\"https://apps.who.int/gho/athena/data/xmart.csv?target=GHO/SA_0000001400&profile=crosstable&filter=COUNTRY:*{''.join(year_str)}&x-sideaxis=COUNTRY;DATASOURCE;ALCOHOLTYPE&x-topaxis=GHO;YEAR\"\n",
    "\n",
    "        filepath = os.path.join(raw_data_dir, f\"data2_{min(years)}_{max(years)}.csv\")\n",
    "        if not os.path.exists(filepath):\n",
    "            print(f\"Downloading years in range - {min(years)}-{max(years)}...\", end=\"\")\n",
    "            r = requests.get(url)\n",
    "            with open(filepath, \"wb\") as f:\n",
    "                f.write(r.content)\n",
    "            print(\"Done\")\n",
    "        else:\n",
    "            print(\n",
    "                f\"Found file for years in range - {min(years)}-{max(years)}. Doing nothing.\"\n",
    "            )"
   ]
  },
  {
   "cell_type": "code",
   "execution_count": 15,
   "metadata": {
    "execution": {
     "iopub.execute_input": "2021-02-21T18:28:04.008361Z",
     "iopub.status.busy": "2021-02-21T18:28:04.008161Z",
     "iopub.status.idle": "2021-02-21T18:28:04.029520Z",
     "shell.execute_reply": "2021-02-21T18:28:04.028967Z",
     "shell.execute_reply.started": "2021-02-21T18:28:04.008333Z"
    }
   },
   "outputs": [],
   "source": [
    "def get_data_by_year(\n",
    "    year,\n",
    "    raw_data_dir,\n",
    "    usecols=[\"Country\", \"Beverage Types\"],\n",
    "    new_col_names=[\"Year\", \"Country\", \"Value\"],\n",
    "):\n",
    "    d = {\n",
    "        \"data2_1960_1979\": list(range(1960, 1979 + 1)),\n",
    "        \"data2_1980_1999\": list(range(1980, 1999 + 1)),\n",
    "        \"data2_2000_2009\": list(range(2000, 2009 + 1)),\n",
    "        \"data2_2010_2020\": list(range(2010, 2020 + 1)),\n",
    "    }\n",
    "    filename = \"\"\n",
    "    for k, v in d.items():\n",
    "        if any(e == year for e in v):\n",
    "            filename = f\"{k}.csv\"\n",
    "    filepath = os.path.join(raw_data_dir, filename)\n",
    "    # print(filepath)\n",
    "    df = pd.read_csv(filepath, header=1, usecols=usecols + [\" \" + str(year)])\n",
    "    # display(df.head())\n",
    "    df = df[df[\"Beverage Types\"] == \" All types\"].drop(\n",
    "        columns=[\"Beverage Types\"], axis=1\n",
    "    )\n",
    "    # display(df.head())\n",
    "    df = df.set_index([\"Country\"]).unstack().reset_index()\n",
    "    df.columns = new_col_names\n",
    "    # display(df.head())\n",
    "    # print(df.shape)\n",
    "    df = df.dropna()\n",
    "    return df.copy()"
   ]
  },
  {
   "cell_type": "code",
   "execution_count": 8,
   "metadata": {
    "execution": {
     "iopub.execute_input": "2021-02-21T18:26:46.414385Z",
     "iopub.status.busy": "2021-02-21T18:26:46.414252Z",
     "iopub.status.idle": "2021-02-21T18:26:46.623568Z",
     "shell.execute_reply": "2021-02-21T18:26:46.622928Z",
     "shell.execute_reply.started": "2021-02-21T18:26:46.414371Z"
    }
   },
   "outputs": [
    {
     "name": "stdout",
     "output_type": "stream",
     "text": [
      "Downloading years in range - 1960-1979...Done\n",
      "Downloading years in range - 1980-1999...Done\n",
      "Downloading years in range - 2000-2009...Done\n",
      "Downloading years in range - 2010-2020...Done\n"
     ]
    }
   ],
   "source": [
    "download_data(raw_data_dir)"
   ]
  },
  {
   "cell_type": "code",
   "execution_count": 10,
   "metadata": {
    "execution": {
     "iopub.execute_input": "2021-02-21T18:26:46.669872Z",
     "iopub.status.busy": "2021-02-21T18:26:46.669725Z",
     "iopub.status.idle": "2021-02-21T18:26:46.690555Z",
     "shell.execute_reply": "2021-02-21T18:26:46.690084Z",
     "shell.execute_reply.started": "2021-02-21T18:26:46.669857Z"
    }
   },
   "outputs": [
    {
     "data": {
      "text/html": [
       "<div>\n",
       "<style scoped>\n",
       "    .dataframe tbody tr th:only-of-type {\n",
       "        vertical-align: middle;\n",
       "    }\n",
       "\n",
       "    .dataframe tbody tr th {\n",
       "        vertical-align: top;\n",
       "    }\n",
       "\n",
       "    .dataframe thead th {\n",
       "        text-align: right;\n",
       "    }\n",
       "</style>\n",
       "<table border=\"1\" class=\"dataframe\">\n",
       "  <thead>\n",
       "    <tr style=\"text-align: right;\">\n",
       "      <th></th>\n",
       "      <th>Year</th>\n",
       "      <th>Country</th>\n",
       "      <th>Value</th>\n",
       "    </tr>\n",
       "  </thead>\n",
       "  <tbody>\n",
       "    <tr>\n",
       "      <th>0</th>\n",
       "      <td>2016</td>\n",
       "      <td>Afghanistan</td>\n",
       "      <td>0.02</td>\n",
       "    </tr>\n",
       "    <tr>\n",
       "      <th>1</th>\n",
       "      <td>2016</td>\n",
       "      <td>Albania</td>\n",
       "      <td>4.67</td>\n",
       "    </tr>\n",
       "    <tr>\n",
       "      <th>2</th>\n",
       "      <td>2016</td>\n",
       "      <td>Algeria</td>\n",
       "      <td>0.60</td>\n",
       "    </tr>\n",
       "    <tr>\n",
       "      <th>3</th>\n",
       "      <td>2016</td>\n",
       "      <td>Andorra</td>\n",
       "      <td>9.94</td>\n",
       "    </tr>\n",
       "    <tr>\n",
       "      <th>4</th>\n",
       "      <td>2016</td>\n",
       "      <td>Angola</td>\n",
       "      <td>5.38</td>\n",
       "    </tr>\n",
       "  </tbody>\n",
       "</table>\n",
       "</div>"
      ],
      "text/plain": [
       "    Year      Country  Value\n",
       "0   2016  Afghanistan   0.02\n",
       "1   2016      Albania   4.67\n",
       "2   2016      Algeria   0.60\n",
       "3   2016      Andorra   9.94\n",
       "4   2016       Angola   5.38"
      ]
     },
     "metadata": {},
     "output_type": "display_data"
    }
   ],
   "source": [
    "df = get_data_by_year(2016, raw_data_dir, usecols=usecols, new_col_names=new_col_names)\n",
    "display(df.head())"
   ]
  },
  {
   "cell_type": "code",
   "execution_count": 11,
   "metadata": {
    "execution": {
     "iopub.execute_input": "2021-02-21T18:26:46.691216Z",
     "iopub.status.busy": "2021-02-21T18:26:46.691081Z",
     "iopub.status.idle": "2021-02-21T18:26:46.759574Z",
     "shell.execute_reply": "2021-02-21T18:26:46.759010Z",
     "shell.execute_reply.started": "2021-02-21T18:26:46.691203Z"
    }
   },
   "outputs": [
    {
     "data": {
      "text/html": [
       "<div>\n",
       "<style scoped>\n",
       "    .dataframe tbody tr th:only-of-type {\n",
       "        vertical-align: middle;\n",
       "    }\n",
       "\n",
       "    .dataframe tbody tr th {\n",
       "        vertical-align: top;\n",
       "    }\n",
       "\n",
       "    .dataframe thead th {\n",
       "        text-align: right;\n",
       "    }\n",
       "</style>\n",
       "<table border=\"1\" class=\"dataframe\">\n",
       "  <thead>\n",
       "    <tr style=\"text-align: right;\">\n",
       "      <th></th>\n",
       "      <th>country</th>\n",
       "      <th>country_code</th>\n",
       "      <th>geometry</th>\n",
       "    </tr>\n",
       "  </thead>\n",
       "  <tbody>\n",
       "    <tr>\n",
       "      <th>0</th>\n",
       "      <td>Fiji</td>\n",
       "      <td>FJI</td>\n",
       "      <td>MULTIPOLYGON (((180.00000 -16.06713, 180.00000...</td>\n",
       "    </tr>\n",
       "    <tr>\n",
       "      <th>1</th>\n",
       "      <td>United Republic of Tanzania</td>\n",
       "      <td>TZA</td>\n",
       "      <td>POLYGON ((33.90371 -0.95000, 34.07262 -1.05982...</td>\n",
       "    </tr>\n",
       "    <tr>\n",
       "      <th>2</th>\n",
       "      <td>Western Sahara</td>\n",
       "      <td>SAH</td>\n",
       "      <td>POLYGON ((-8.66559 27.65643, -8.66512 27.58948...</td>\n",
       "    </tr>\n",
       "    <tr>\n",
       "      <th>3</th>\n",
       "      <td>Canada</td>\n",
       "      <td>CAN</td>\n",
       "      <td>MULTIPOLYGON (((-122.84000 49.00000, -122.9742...</td>\n",
       "    </tr>\n",
       "    <tr>\n",
       "      <th>4</th>\n",
       "      <td>United States of America</td>\n",
       "      <td>USA</td>\n",
       "      <td>MULTIPOLYGON (((-122.84000 49.00000, -120.0000...</td>\n",
       "    </tr>\n",
       "  </tbody>\n",
       "</table>\n",
       "</div>"
      ],
      "text/plain": [
       "                       country country_code  \\\n",
       "0                         Fiji          FJI   \n",
       "1  United Republic of Tanzania          TZA   \n",
       "2               Western Sahara          SAH   \n",
       "3                       Canada          CAN   \n",
       "4     United States of America          USA   \n",
       "\n",
       "                                            geometry  \n",
       "0  MULTIPOLYGON (((180.00000 -16.06713, 180.00000...  \n",
       "1  POLYGON ((33.90371 -0.95000, 34.07262 -1.05982...  \n",
       "2  POLYGON ((-8.66559 27.65643, -8.66512 27.58948...  \n",
       "3  MULTIPOLYGON (((-122.84000 49.00000, -122.9742...  \n",
       "4  MULTIPOLYGON (((-122.84000 49.00000, -120.0000...  "
      ]
     },
     "metadata": {},
     "output_type": "display_data"
    }
   ],
   "source": [
    "gdf = gpd.read_file(shapefile_filepath)[shapefile_col_names]\n",
    "gdf.columns = new_shapefile_col_names\n",
    "display(gdf.head())"
   ]
  },
  {
   "cell_type": "code",
   "execution_count": 12,
   "metadata": {
    "execution": {
     "iopub.execute_input": "2021-02-21T18:26:46.760317Z",
     "iopub.status.busy": "2021-02-21T18:26:46.760174Z",
     "iopub.status.idle": "2021-02-21T18:26:46.792836Z",
     "shell.execute_reply": "2021-02-21T18:26:46.792276Z",
     "shell.execute_reply.started": "2021-02-21T18:26:46.760303Z"
    }
   },
   "outputs": [],
   "source": [
    "d = {\n",
    "    \"Bolivia (Plurinational State of)\": \"BOL\",\n",
    "    \"Democratic People's Republic of Korea\": \"PRK\",\n",
    "    \"Democratic Republic of the Congo\": \"COD\",\n",
    "    \"Iran (Islamic Republic of)\": \"IRN\",\n",
    "    \"Micronesia (Federated States of)\": \"FSM\",\n",
    "    \"Republic of Korea\": \"KOR\",\n",
    "    \"Republic of Moldova\": \"MDA\",\n",
    "    \"United Kingdom of Great Britain and Northern Ireland\": \"GBR\",\n",
    "    \"United Republic of Tanzania\": \"TZA\",\n",
    "    \"United States of America\": \"USA\",\n",
    "    \"Venezuela (Bolivarian Republic of)\": \"VEN\",\n",
    "}\n",
    "codes = []\n",
    "for index, row in df.iterrows():\n",
    "    country = row[\"Country\"].split(r\" (\")[0]\n",
    "    # if index== 20:\n",
    "    #     print(country)\n",
    "    try:\n",
    "        code = pycountry.countries.get(name=country).alpha_3\n",
    "    except:\n",
    "        if row[\"Country\"] in list(d.keys()):\n",
    "            code = d[row[\"Country\"]]\n",
    "        else:\n",
    "            code = row[\"Country\"]\n",
    "    # if len(code) > 3:\n",
    "    #     print(index, code)\n",
    "    codes.append(code)\n",
    "df[\"Code\"] = codes"
   ]
  },
  {
   "cell_type": "code",
   "execution_count": 13,
   "metadata": {
    "execution": {
     "iopub.execute_input": "2021-02-21T18:26:46.793570Z",
     "iopub.status.busy": "2021-02-21T18:26:46.793432Z",
     "iopub.status.idle": "2021-02-21T18:26:46.805565Z",
     "shell.execute_reply": "2021-02-21T18:26:46.804828Z",
     "shell.execute_reply.started": "2021-02-21T18:26:46.793555Z"
    }
   },
   "outputs": [],
   "source": [
    "df_merged = gdf.merge(df, right_on=\"Code\", left_on=\"country_code\", how=\"left\")"
   ]
  },
  {
   "cell_type": "code",
   "execution_count": 14,
   "metadata": {
    "execution": {
     "iopub.execute_input": "2021-02-21T18:26:46.806337Z",
     "iopub.status.busy": "2021-02-21T18:26:46.806187Z",
     "iopub.status.idle": "2021-02-21T18:26:46.828488Z",
     "shell.execute_reply": "2021-02-21T18:26:46.828105Z",
     "shell.execute_reply.started": "2021-02-21T18:26:46.806322Z"
    }
   },
   "outputs": [
    {
     "data": {
      "text/html": [
       "<div>\n",
       "<style scoped>\n",
       "    .dataframe tbody tr th:only-of-type {\n",
       "        vertical-align: middle;\n",
       "    }\n",
       "\n",
       "    .dataframe tbody tr th {\n",
       "        vertical-align: top;\n",
       "    }\n",
       "\n",
       "    .dataframe thead th {\n",
       "        text-align: right;\n",
       "    }\n",
       "</style>\n",
       "<table border=\"1\" class=\"dataframe\">\n",
       "  <thead>\n",
       "    <tr style=\"text-align: right;\">\n",
       "      <th></th>\n",
       "      <th>country</th>\n",
       "      <th>country_code</th>\n",
       "      <th>geometry</th>\n",
       "      <th>Year</th>\n",
       "      <th>Country</th>\n",
       "      <th>Value</th>\n",
       "      <th>Code</th>\n",
       "    </tr>\n",
       "  </thead>\n",
       "  <tbody>\n",
       "    <tr>\n",
       "      <th>2</th>\n",
       "      <td>Western Sahara</td>\n",
       "      <td>SAH</td>\n",
       "      <td>POLYGON ((-8.66559 27.65643, -8.66512 27.58948...</td>\n",
       "      <td>NaN</td>\n",
       "      <td>NaN</td>\n",
       "      <td>NaN</td>\n",
       "      <td>NaN</td>\n",
       "    </tr>\n",
       "    <tr>\n",
       "      <th>20</th>\n",
       "      <td>Falkland Islands</td>\n",
       "      <td>FLK</td>\n",
       "      <td>POLYGON ((-61.20000 -51.85000, -60.00000 -51.2...</td>\n",
       "      <td>NaN</td>\n",
       "      <td>NaN</td>\n",
       "      <td>NaN</td>\n",
       "      <td>NaN</td>\n",
       "    </tr>\n",
       "    <tr>\n",
       "      <th>22</th>\n",
       "      <td>Greenland</td>\n",
       "      <td>GRL</td>\n",
       "      <td>POLYGON ((-46.76379 82.62796, -43.40644 83.225...</td>\n",
       "      <td>NaN</td>\n",
       "      <td>NaN</td>\n",
       "      <td>NaN</td>\n",
       "      <td>NaN</td>\n",
       "    </tr>\n",
       "    <tr>\n",
       "      <th>23</th>\n",
       "      <td>French Southern and Antarctic Lands</td>\n",
       "      <td>ATF</td>\n",
       "      <td>POLYGON ((68.93500 -48.62500, 69.58000 -48.940...</td>\n",
       "      <td>NaN</td>\n",
       "      <td>NaN</td>\n",
       "      <td>NaN</td>\n",
       "      <td>NaN</td>\n",
       "    </tr>\n",
       "    <tr>\n",
       "      <th>45</th>\n",
       "      <td>Puerto Rico</td>\n",
       "      <td>PRI</td>\n",
       "      <td>POLYGON ((-66.28243 18.51476, -65.77130 18.426...</td>\n",
       "      <td>NaN</td>\n",
       "      <td>NaN</td>\n",
       "      <td>NaN</td>\n",
       "      <td>NaN</td>\n",
       "    </tr>\n",
       "    <tr>\n",
       "      <th>79</th>\n",
       "      <td>Palestine</td>\n",
       "      <td>PSX</td>\n",
       "      <td>POLYGON ((35.39756 31.48909, 34.92741 31.35344...</td>\n",
       "      <td>NaN</td>\n",
       "      <td>NaN</td>\n",
       "      <td>NaN</td>\n",
       "      <td>NaN</td>\n",
       "    </tr>\n",
       "    <tr>\n",
       "      <th>134</th>\n",
       "      <td>New Caledonia</td>\n",
       "      <td>NCL</td>\n",
       "      <td>POLYGON ((165.77999 -21.08000, 166.59999 -21.7...</td>\n",
       "      <td>NaN</td>\n",
       "      <td>NaN</td>\n",
       "      <td>NaN</td>\n",
       "      <td>NaN</td>\n",
       "    </tr>\n",
       "    <tr>\n",
       "      <th>140</th>\n",
       "      <td>Taiwan</td>\n",
       "      <td>TWN</td>\n",
       "      <td>POLYGON ((121.77782 24.39427, 121.17563 22.790...</td>\n",
       "      <td>NaN</td>\n",
       "      <td>NaN</td>\n",
       "      <td>NaN</td>\n",
       "      <td>NaN</td>\n",
       "    </tr>\n",
       "    <tr>\n",
       "      <th>159</th>\n",
       "      <td>Antarctica</td>\n",
       "      <td>ATA</td>\n",
       "      <td>MULTIPOLYGON (((-48.66062 -78.04702, -48.15140...</td>\n",
       "      <td>NaN</td>\n",
       "      <td>NaN</td>\n",
       "      <td>NaN</td>\n",
       "      <td>NaN</td>\n",
       "    </tr>\n",
       "    <tr>\n",
       "      <th>160</th>\n",
       "      <td>Northern Cyprus</td>\n",
       "      <td>CYN</td>\n",
       "      <td>POLYGON ((32.73178 35.14003, 32.80247 35.14550...</td>\n",
       "      <td>NaN</td>\n",
       "      <td>NaN</td>\n",
       "      <td>NaN</td>\n",
       "      <td>NaN</td>\n",
       "    </tr>\n",
       "    <tr>\n",
       "      <th>167</th>\n",
       "      <td>Somaliland</td>\n",
       "      <td>SOL</td>\n",
       "      <td>POLYGON ((48.94820 11.41062, 48.94820 11.41062...</td>\n",
       "      <td>NaN</td>\n",
       "      <td>NaN</td>\n",
       "      <td>NaN</td>\n",
       "      <td>NaN</td>\n",
       "    </tr>\n",
       "    <tr>\n",
       "      <th>174</th>\n",
       "      <td>Kosovo</td>\n",
       "      <td>KOS</td>\n",
       "      <td>POLYGON ((20.59025 41.85541, 20.52295 42.21787...</td>\n",
       "      <td>NaN</td>\n",
       "      <td>NaN</td>\n",
       "      <td>NaN</td>\n",
       "      <td>NaN</td>\n",
       "    </tr>\n",
       "    <tr>\n",
       "      <th>176</th>\n",
       "      <td>South Sudan</td>\n",
       "      <td>SDS</td>\n",
       "      <td>POLYGON ((30.83385 3.50917, 29.95350 4.17370, ...</td>\n",
       "      <td>NaN</td>\n",
       "      <td>NaN</td>\n",
       "      <td>NaN</td>\n",
       "      <td>NaN</td>\n",
       "    </tr>\n",
       "  </tbody>\n",
       "</table>\n",
       "</div>"
      ],
      "text/plain": [
       "                                 country country_code  \\\n",
       "2                         Western Sahara          SAH   \n",
       "20                      Falkland Islands          FLK   \n",
       "22                             Greenland          GRL   \n",
       "23   French Southern and Antarctic Lands          ATF   \n",
       "45                           Puerto Rico          PRI   \n",
       "79                             Palestine          PSX   \n",
       "134                        New Caledonia          NCL   \n",
       "140                               Taiwan          TWN   \n",
       "159                           Antarctica          ATA   \n",
       "160                      Northern Cyprus          CYN   \n",
       "167                           Somaliland          SOL   \n",
       "174                               Kosovo          KOS   \n",
       "176                          South Sudan          SDS   \n",
       "\n",
       "                                              geometry Year Country  Value  \\\n",
       "2    POLYGON ((-8.66559 27.65643, -8.66512 27.58948...  NaN     NaN    NaN   \n",
       "20   POLYGON ((-61.20000 -51.85000, -60.00000 -51.2...  NaN     NaN    NaN   \n",
       "22   POLYGON ((-46.76379 82.62796, -43.40644 83.225...  NaN     NaN    NaN   \n",
       "23   POLYGON ((68.93500 -48.62500, 69.58000 -48.940...  NaN     NaN    NaN   \n",
       "45   POLYGON ((-66.28243 18.51476, -65.77130 18.426...  NaN     NaN    NaN   \n",
       "79   POLYGON ((35.39756 31.48909, 34.92741 31.35344...  NaN     NaN    NaN   \n",
       "134  POLYGON ((165.77999 -21.08000, 166.59999 -21.7...  NaN     NaN    NaN   \n",
       "140  POLYGON ((121.77782 24.39427, 121.17563 22.790...  NaN     NaN    NaN   \n",
       "159  MULTIPOLYGON (((-48.66062 -78.04702, -48.15140...  NaN     NaN    NaN   \n",
       "160  POLYGON ((32.73178 35.14003, 32.80247 35.14550...  NaN     NaN    NaN   \n",
       "167  POLYGON ((48.94820 11.41062, 48.94820 11.41062...  NaN     NaN    NaN   \n",
       "174  POLYGON ((20.59025 41.85541, 20.52295 42.21787...  NaN     NaN    NaN   \n",
       "176  POLYGON ((30.83385 3.50917, 29.95350 4.17370, ...  NaN     NaN    NaN   \n",
       "\n",
       "    Code  \n",
       "2    NaN  \n",
       "20   NaN  \n",
       "22   NaN  \n",
       "23   NaN  \n",
       "45   NaN  \n",
       "79   NaN  \n",
       "134  NaN  \n",
       "140  NaN  \n",
       "159  NaN  \n",
       "160  NaN  \n",
       "167  NaN  \n",
       "174  NaN  \n",
       "176  NaN  "
      ]
     },
     "execution_count": 14,
     "metadata": {},
     "output_type": "execute_result"
    }
   ],
   "source": [
    "df_merged.loc[df_merged.isna().any(axis=1)]"
   ]
  }
 ],
 "metadata": {
  "kernelspec": {
   "display_name": "Python 3",
   "language": "python",
   "name": "python3"
  },
  "language_info": {
   "codemirror_mode": {
    "name": "ipython",
    "version": 3
   },
   "file_extension": ".py",
   "mimetype": "text/x-python",
   "name": "python",
   "nbconvert_exporter": "python",
   "pygments_lexer": "ipython3",
   "version": "3.8.5"
  }
 },
 "nbformat": 4,
 "nbformat_minor": 4
}
